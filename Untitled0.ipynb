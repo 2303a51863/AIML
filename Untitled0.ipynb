{
  "nbformat": 4,
  "nbformat_minor": 0,
  "metadata": {
    "colab": {
      "provenance": [],
      "authorship_tag": "ABX9TyNds0ms6HwOkk+zuA8GPnB4",
      "include_colab_link": true
    },
    "kernelspec": {
      "name": "python3",
      "display_name": "Python 3"
    },
    "language_info": {
      "name": "python"
    }
  },
  "cells": [
    {
      "cell_type": "markdown",
      "metadata": {
        "id": "view-in-github",
        "colab_type": "text"
      },
      "source": [
        "<a href=\"https://colab.research.google.com/github/2303a51863/AIML/blob/main/Untitled0.ipynb\" target=\"_parent\"><img src=\"https://colab.research.google.com/assets/colab-badge.svg\" alt=\"Open In Colab\"/></a>"
      ]
    },
    {
      "cell_type": "code",
      "execution_count": 2,
      "metadata": {
        "colab": {
          "base_uri": "https://localhost:8080/"
        },
        "id": "F4EcJBOWES0I",
        "outputId": "2b9f579b-286d-4d3f-b9c0-2e2a4054bcb7"
      },
      "outputs": [
        {
          "output_type": "stream",
          "name": "stdout",
          "text": [
            "['apple', 'banana', 'cherry']\n"
          ]
        }
      ],
      "source": [
        "#Lists in python\n",
        "thislist = [\"apple\", \"banana\", \"cherry\"]\n",
        "print(thislist)\n"
      ]
    },
    {
      "cell_type": "code",
      "source": [
        "#Arrays in python\n",
        "cars = [\"Ford\", \"Volvo\", \"BMW\"]\n",
        "x = cars[0]\n",
        "print(x)"
      ],
      "metadata": {
        "colab": {
          "base_uri": "https://localhost:8080/"
        },
        "id": "e5E96HJyGPFr",
        "outputId": "ecbd1441-3445-4a90-86c7-e7333fc640e5"
      },
      "execution_count": 6,
      "outputs": [
        {
          "output_type": "stream",
          "name": "stdout",
          "text": [
            "Ford\n"
          ]
        }
      ]
    },
    {
      "cell_type": "code",
      "source": [
        "#Data types\n",
        "x = 1    # int\n",
        "y = 2.8  # float\n",
        "print(type(x))\n",
        "print(type(y))"
      ],
      "metadata": {
        "colab": {
          "base_uri": "https://localhost:8080/"
        },
        "id": "Ag-eir_4HCQa",
        "outputId": "068ae582-98f2-4608-86fd-5b0c3f35a5ab"
      },
      "execution_count": 7,
      "outputs": [
        {
          "output_type": "stream",
          "name": "stdout",
          "text": [
            "<class 'int'>\n",
            "<class 'float'>\n"
          ]
        }
      ]
    },
    {
      "cell_type": "code",
      "source": [
        "#Implementation np.sin()"
      ],
      "metadata": {
        "id": "2h6uEPMgJj8z"
      },
      "execution_count": null,
      "outputs": []
    }
  ]
}