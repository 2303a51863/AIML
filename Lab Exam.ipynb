{
  "nbformat": 4,
  "nbformat_minor": 0,
  "metadata": {
    "colab": {
      "provenance": [],
      "authorship_tag": "ABX9TyPWViUBe5uZgWZ7U0j3YIOx",
      "include_colab_link": true
    },
    "kernelspec": {
      "name": "python3",
      "display_name": "Python 3"
    },
    "language_info": {
      "name": "python"
    }
  },
  "cells": [
    {
      "cell_type": "markdown",
      "metadata": {
        "id": "view-in-github",
        "colab_type": "text"
      },
      "source": [
        "<a href=\"https://colab.research.google.com/github/2303a51863/AIML/blob/main/Lab%20Exam.ipynb\" target=\"_parent\"><img src=\"https://colab.research.google.com/assets/colab-badge.svg\" alt=\"Open In Colab\"/></a>"
      ]
    },
    {
      "cell_type": "markdown",
      "source": [
        "# Lab Exam"
      ],
      "metadata": {
        "id": "VR1SIoCoo5Qd"
      }
    },
    {
      "cell_type": "markdown",
      "source": [
        "Prediction of obesity levels based on eating habits\n",
        "\n",
        "Identify the top 5 reasons for obesity levels 2. Identify the age group with most obesity\n",
        "\n",
        "Find the max and min weight of patient with obesity\n",
        "\n",
        "Name the top 5 eating habits contributing to obesity\n",
        "\n",
        "Identify the highest usage of tech gadgets among obese patients.\n",
        "\n",
        "Apply either Classification Model or Clustering Model to evaluate the dataset"
      ],
      "metadata": {
        "id": "a1Vt7rME8OEO"
      }
    },
    {
      "cell_type": "code",
      "source": [
        "pip install ucimlrepo"
      ],
      "metadata": {
        "colab": {
          "base_uri": "https://localhost:8080/"
        },
        "id": "RkfHv_uc6_hk",
        "outputId": "ec95574d-3bbb-44d7-ec0e-d74cba745cbc"
      },
      "execution_count": 33,
      "outputs": [
        {
          "output_type": "stream",
          "name": "stdout",
          "text": [
            "Requirement already satisfied: ucimlrepo in /usr/local/lib/python3.10/dist-packages (0.0.7)\n",
            "Requirement already satisfied: pandas>=1.0.0 in /usr/local/lib/python3.10/dist-packages (from ucimlrepo) (2.2.2)\n",
            "Requirement already satisfied: certifi>=2020.12.5 in /usr/local/lib/python3.10/dist-packages (from ucimlrepo) (2024.8.30)\n",
            "Requirement already satisfied: numpy>=1.22.4 in /usr/local/lib/python3.10/dist-packages (from pandas>=1.0.0->ucimlrepo) (1.26.4)\n",
            "Requirement already satisfied: python-dateutil>=2.8.2 in /usr/local/lib/python3.10/dist-packages (from pandas>=1.0.0->ucimlrepo) (2.8.2)\n",
            "Requirement already satisfied: pytz>=2020.1 in /usr/local/lib/python3.10/dist-packages (from pandas>=1.0.0->ucimlrepo) (2024.2)\n",
            "Requirement already satisfied: tzdata>=2022.7 in /usr/local/lib/python3.10/dist-packages (from pandas>=1.0.0->ucimlrepo) (2024.2)\n",
            "Requirement already satisfied: six>=1.5 in /usr/local/lib/python3.10/dist-packages (from python-dateutil>=2.8.2->pandas>=1.0.0->ucimlrepo) (1.16.0)\n"
          ]
        }
      ]
    },
    {
      "cell_type": "code",
      "source": [
        "from ucimlrepo import fetch_ucirepo\n",
        "\n",
        "# fetch dataset\n",
        "estimation_of_obesity_levels_based_on_eating_habits_and_physical_condition = fetch_ucirepo(id=544)\n",
        "\n",
        "# data (as pandas dataframes)\n",
        "X = estimation_of_obesity_levels_based_on_eating_habits_and_physical_condition.data.features\n",
        "y = estimation_of_obesity_levels_based_on_eating_habits_and_physical_condition.data.targets\n",
        "\n",
        "# metadata\n",
        "print(estimation_of_obesity_levels_based_on_eating_habits_and_physical_condition.metadata)\n",
        "\n",
        "# variable information\n",
        "print(estimation_of_obesity_levels_based_on_eating_habits_and_physical_condition.variables)"
      ],
      "metadata": {
        "colab": {
          "base_uri": "https://localhost:8080/"
        },
        "id": "HVoW51o-7Fmu",
        "outputId": "268d80f5-b87c-410d-86b8-57f2fc4c4bcd"
      },
      "execution_count": 34,
      "outputs": [
        {
          "output_type": "stream",
          "name": "stdout",
          "text": [
            "{'uci_id': 544, 'name': 'Estimation of Obesity Levels Based On Eating Habits and Physical Condition ', 'repository_url': 'https://archive.ics.uci.edu/dataset/544/estimation+of+obesity+levels+based+on+eating+habits+and+physical+condition', 'data_url': 'https://archive.ics.uci.edu/static/public/544/data.csv', 'abstract': 'This dataset include data for the estimation of obesity levels in individuals from the countries of Mexico, Peru and Colombia, based on their eating habits and physical condition. ', 'area': 'Health and Medicine', 'tasks': ['Classification', 'Regression', 'Clustering'], 'characteristics': ['Multivariate'], 'num_instances': 2111, 'num_features': 16, 'feature_types': ['Integer'], 'demographics': ['Gender', 'Age'], 'target_col': ['NObeyesdad'], 'index_col': None, 'has_missing_values': 'no', 'missing_values_symbol': None, 'year_of_dataset_creation': 2019, 'last_updated': 'Tue Sep 10 2024', 'dataset_doi': '10.24432/C5H31Z', 'creators': [], 'intro_paper': {'ID': 358, 'type': 'NATIVE', 'title': 'Dataset for estimation of obesity levels based on eating habits and physical condition in individuals from Colombia, Peru and Mexico', 'authors': 'Fabio Mendoza Palechor, Alexis De la Hoz Manotas', 'venue': 'Data in Brief', 'year': 2019, 'journal': None, 'DOI': '10.1016/j.dib.2019.104344', 'URL': 'https://www.semanticscholar.org/paper/35b40bacd2ffa9370885b7a3004d88995fd1d011', 'sha': None, 'corpus': None, 'arxiv': None, 'mag': None, 'acl': None, 'pmid': None, 'pmcid': None}, 'additional_info': {'summary': 'This dataset include data for the estimation of obesity levels in individuals from the countries of Mexico, Peru and Colombia, based on their eating habits and physical condition. The data contains 17 attributes and 2111 records, the records are labeled with the class variable NObesity (Obesity Level), that allows classification of the data using the values of Insufficient Weight, Normal Weight, Overweight Level I, Overweight Level II, Obesity Type I, Obesity Type II and Obesity Type III. 77% of the data was generated synthetically using the Weka tool and the SMOTE filter, 23% of the data was collected directly from users through a web platform.', 'purpose': None, 'funded_by': None, 'instances_represent': None, 'recommended_data_splits': None, 'sensitive_data': None, 'preprocessing_description': None, 'variable_info': 'Read the article (https://doi.org/10.1016/j.dib.2019.104344) to see the description of the attributes.', 'citation': None}}\n",
            "                              name     role         type demographic  \\\n",
            "0                           Gender  Feature  Categorical      Gender   \n",
            "1                              Age  Feature   Continuous         Age   \n",
            "2                           Height  Feature   Continuous        None   \n",
            "3                           Weight  Feature   Continuous        None   \n",
            "4   family_history_with_overweight  Feature       Binary        None   \n",
            "5                             FAVC  Feature       Binary        None   \n",
            "6                             FCVC  Feature      Integer        None   \n",
            "7                              NCP  Feature   Continuous        None   \n",
            "8                             CAEC  Feature  Categorical        None   \n",
            "9                            SMOKE  Feature       Binary        None   \n",
            "10                            CH2O  Feature   Continuous        None   \n",
            "11                             SCC  Feature       Binary        None   \n",
            "12                             FAF  Feature   Continuous        None   \n",
            "13                             TUE  Feature      Integer        None   \n",
            "14                            CALC  Feature  Categorical        None   \n",
            "15                          MTRANS  Feature  Categorical        None   \n",
            "16                      NObeyesdad   Target  Categorical        None   \n",
            "\n",
            "                                          description units missing_values  \n",
            "0                                                None  None             no  \n",
            "1                                                None  None             no  \n",
            "2                                                None  None             no  \n",
            "3                                                None  None             no  \n",
            "4   Has a family member suffered or suffers from o...  None             no  \n",
            "5            Do you eat high caloric food frequently?  None             no  \n",
            "6        Do you usually eat vegetables in your meals?  None             no  \n",
            "7              How many main meals do you have daily?  None             no  \n",
            "8                  Do you eat any food between meals?  None             no  \n",
            "9                                       Do you smoke?  None             no  \n",
            "10                 How much water do you drink daily?  None             no  \n",
            "11         Do you monitor the calories you eat daily?  None             no  \n",
            "12           How often do you have physical activity?  None             no  \n",
            "13  How much time do you use technological devices...  None             no  \n",
            "14                    How often do you drink alcohol?  None             no  \n",
            "15           Which transportation do you usually use?  None             no  \n",
            "16                                      Obesity level  None             no  \n"
          ]
        }
      ]
    },
    {
      "cell_type": "code",
      "source": [
        "import pandas as pd\n",
        "df=pd.read_csv(\"/content/ObesityDataSet_raw_and_data_sinthetic.csv\")"
      ],
      "metadata": {
        "id": "Iy7IUIaK7JWd"
      },
      "execution_count": 36,
      "outputs": []
    },
    {
      "cell_type": "code",
      "source": [
        "import pandas as pd\n",
        "from sklearn.ensemble import RandomForestClassifier\n",
        "from sklearn.preprocessing import LabelEncoder\n",
        "from sklearn.model_selection import train_test_split\n",
        "\n",
        "# Load the dataset\n",
        "data = df\n",
        "\n",
        "# Encode categorical variables\n",
        "label_encoders = {}\n",
        "for col in data.select_dtypes(include=['object']).columns:\n",
        "    label_encoders[col] = LabelEncoder()\n",
        "    data[col] = label_encoders[col].fit_transform(data[col])\n",
        "\n",
        "# Separate features (X) and target (y)\n",
        "X = data.drop(columns=['NObeyesdad'])  # Features\n",
        "y = data['NObeyesdad']  # Target\n",
        "\n",
        "# Split the data into training and test sets\n",
        "X_train, X_test, y_train, y_test = train_test_split(X, y, test_size=0.2, random_state=42)\n",
        "\n",
        "# Train a Random Forest model\n",
        "rf_model = RandomForestClassifier(random_state=42)\n",
        "rf_model.fit(X_train, y_train)\n",
        "\n",
        "# Get feature importances\n",
        "feature_importances = rf_model.feature_importances_\n",
        "feature_importance_df = pd.DataFrame({\n",
        "    'Feature': X.columns,\n",
        "    'Importance': feature_importances\n",
        "}).sort_values(by='Importance', ascending=False)\n",
        "\n",
        "# Display the top 5 features\n",
        "top_5_features = feature_importance_df.head(5)\n",
        "print(\"Top 5 reasons for obesity levels:\")\n",
        "print(top_5_features)"
      ],
      "metadata": {
        "colab": {
          "base_uri": "https://localhost:8080/"
        },
        "id": "eybNyzsj7Nc0",
        "outputId": "a1c03427-ac85-4522-b647-0d2f3e84be1e"
      },
      "execution_count": 37,
      "outputs": [
        {
          "output_type": "stream",
          "name": "stdout",
          "text": [
            "Top 5 reasons for obesity levels:\n",
            "  Feature  Importance\n",
            "3  Weight    0.336245\n",
            "2  Height    0.104756\n",
            "1     Age    0.096946\n",
            "6    FCVC    0.096065\n",
            "0  Gender    0.051746\n"
          ]
        }
      ]
    },
    {
      "cell_type": "code",
      "source": [
        "# Group the dataset by obesity levels and count the occurrences\n",
        "obesity_group_counts = data['NObeyesdad'].value_counts()\n",
        "\n",
        "# Map encoded obesity levels back to their original labels (optional for better readability)\n",
        "obesity_group_labels = label_encoders['NObeyesdad'].inverse_transform(obesity_group_counts.index)\n",
        "\n",
        "# Create a DataFrame for better visualization\n",
        "obesity_summary = pd.DataFrame({\n",
        "    'Obesity Level': obesity_group_labels,\n",
        "    'Count': obesity_group_counts.values\n",
        "}).sort_values(by='Count', ascending=False)\n",
        "\n",
        "# Display the group with the most obesity\n",
        "most_obese_group = obesity_summary.iloc[0]\n",
        "print(\"Group with the most obesity:\")\n",
        "print(most_obese_group)\n",
        "\n",
        "# Display all obesity group counts\n",
        "print(\"\\nObesity Group Distribution:\")\n",
        "print(obesity_summary)"
      ],
      "metadata": {
        "colab": {
          "base_uri": "https://localhost:8080/"
        },
        "id": "EArT4ETT7REA",
        "outputId": "6e7fd219-804b-454c-ee81-eaee295f67e0"
      },
      "execution_count": 38,
      "outputs": [
        {
          "output_type": "stream",
          "name": "stdout",
          "text": [
            "Group with the most obesity:\n",
            "Obesity Level    Obesity_Type_I\n",
            "Count                       351\n",
            "Name: 0, dtype: object\n",
            "\n",
            "Obesity Group Distribution:\n",
            "         Obesity Level  Count\n",
            "0       Obesity_Type_I    351\n",
            "1     Obesity_Type_III    324\n",
            "2      Obesity_Type_II    297\n",
            "3   Overweight_Level_I    290\n",
            "4  Overweight_Level_II    290\n",
            "5        Normal_Weight    287\n",
            "6  Insufficient_Weight    272\n"
          ]
        }
      ]
    },
    {
      "cell_type": "code",
      "source": [
        "# Filter data for patients with obesity\n",
        "# Assuming 'NObeyesdad' has numeric values encoded for obesity levels\n",
        "# Replace obesity_values with the actual values indicating obesity in the dataset\n",
        "obesity_values = label_encoders['NObeyesdad'].transform(['Obesity_Type_I', 'Obesity_Type_II', 'Obesity_Type_III'])\n",
        "obese_patients = data[data['NObeyesdad'].isin(obesity_values)]\n",
        "\n",
        "# Find the maximum and minimum weights of obese patients\n",
        "max_weight = obese_patients['Weight'].max()\n",
        "min_weight = obese_patients['Weight'].min()\n",
        "\n",
        "print(\"Maximum weight among patients with obesity:\", max_weight)\n",
        "print(\"Minimum weight among patients with obesity:\", min_weight)"
      ],
      "metadata": {
        "colab": {
          "base_uri": "https://localhost:8080/"
        },
        "id": "CUmq4TNP7VFb",
        "outputId": "96149080-c318-4ae9-e100-6cbb81215ad8"
      },
      "execution_count": 39,
      "outputs": [
        {
          "output_type": "stream",
          "name": "stdout",
          "text": [
            "Maximum weight among patients with obesity: 173.0\n",
            "Minimum weight among patients with obesity: 75.0\n"
          ]
        }
      ]
    },
    {
      "cell_type": "code",
      "source": [
        "# Define eating habit-related features\n",
        "eating_habits = ['FAVC', 'FCVC', 'NCP', 'CAEC', 'CH2O']\n",
        "\n",
        "# Subset data for eating habits and the target\n",
        "X_eating_habits = data[eating_habits]\n",
        "y = data['NObeyesdad']\n",
        "\n",
        "# Split data into training and test sets\n",
        "X_train, X_test, y_train, y_test = train_test_split(X_eating_habits, y, test_size=0.2, random_state=42)\n",
        "\n",
        "# Train a Random Forest model\n",
        "rf_model_eating = RandomForestClassifier(random_state=42)\n",
        "rf_model_eating.fit(X_train, y_train)\n",
        "\n",
        "# Get feature importances\n",
        "eating_feature_importances = rf_model_eating.feature_importances_\n",
        "eating_importance_df = pd.DataFrame({\n",
        "    'Feature': X_eating_habits.columns,\n",
        "    'Importance': eating_feature_importances\n",
        "}).sort_values(by='Importance', ascending=False)\n",
        "\n",
        "# Display the top 5 eating habits\n",
        "top_5_eating_habits = eating_importance_df.head(5)\n",
        "print(\"Top 5 eating habits contributing to obesity:\")\n",
        "print(top_5_eating_habits)"
      ],
      "metadata": {
        "colab": {
          "base_uri": "https://localhost:8080/"
        },
        "id": "Tp7mpJQ37YXH",
        "outputId": "8548d3b7-ef57-44cf-a013-7cd8774a798d"
      },
      "execution_count": 40,
      "outputs": [
        {
          "output_type": "stream",
          "name": "stdout",
          "text": [
            "Top 5 eating habits contributing to obesity:\n",
            "  Feature  Importance\n",
            "4    CH2O    0.346568\n",
            "1    FCVC    0.300068\n",
            "2     NCP    0.220140\n",
            "3    CAEC    0.093219\n",
            "0    FAVC    0.040004\n"
          ]
        }
      ]
    },
    {
      "cell_type": "code",
      "source": [
        "# Filter data for patients with obesity\n",
        "# Replace obesity_values with the actual values indicating obesity in the dataset\n",
        "obesity_values = label_encoders['NObeyesdad'].transform(['Obesity_Type_I', 'Obesity_Type_II', 'Obesity_Type_III'])\n",
        "obese_patients = data[data['NObeyesdad'].isin(obesity_values)]\n",
        "\n",
        "# Find the highest usage of tech gadgets among obese patients\n",
        "max_tech_usage = obese_patients['TUE'].max()\n",
        "\n",
        "print(\"Highest usage of tech gadgets (in hours) among obese patients:\", max_tech_usage)"
      ],
      "metadata": {
        "colab": {
          "base_uri": "https://localhost:8080/"
        },
        "id": "6Du5TX9z7b9l",
        "outputId": "0a9545e0-946e-4bc2-b75f-6161f9298298"
      },
      "execution_count": 41,
      "outputs": [
        {
          "output_type": "stream",
          "name": "stdout",
          "text": [
            "Highest usage of tech gadgets (in hours) among obese patients: 2.0\n"
          ]
        }
      ]
    },
    {
      "cell_type": "code",
      "source": [
        "from sklearn.model_selection import train_test_split\n",
        "from sklearn.ensemble import RandomForestClassifier\n",
        "from sklearn.metrics import classification_report, accuracy_score\n",
        "\n",
        "# Split data into training and test sets\n",
        "X_train, X_test, y_train, y_test = train_test_split(X, y, test_size=0.2, random_state=42)\n",
        "\n",
        "# Train Random Forest Classifier\n",
        "clf = RandomForestClassifier(random_state=42)\n",
        "clf.fit(X_train, y_train)\n",
        "\n",
        "# Predictions and evaluation\n",
        "y_pred = clf.predict(X_test)\n",
        "print(\"Accuracy:\", accuracy_score(y_test, y_pred))\n",
        "print(\"Classification Report:\\n\", classification_report(y_test, y_pred))"
      ],
      "metadata": {
        "colab": {
          "base_uri": "https://localhost:8080/"
        },
        "id": "0DcMRtS07fg3",
        "outputId": "b5bf8283-5a49-4ecf-cf5c-b4e63d7a8f53"
      },
      "execution_count": 42,
      "outputs": [
        {
          "output_type": "stream",
          "name": "stdout",
          "text": [
            "Accuracy: 0.9550827423167849\n",
            "Classification Report:\n",
            "               precision    recall  f1-score   support\n",
            "\n",
            "           0       0.98      0.96      0.97        56\n",
            "           1       0.89      0.90      0.90        62\n",
            "           2       0.99      0.97      0.98        78\n",
            "           3       0.97      0.98      0.97        58\n",
            "           4       1.00      1.00      1.00        63\n",
            "           5       0.88      0.89      0.88        56\n",
            "           6       0.98      0.96      0.97        50\n",
            "\n",
            "    accuracy                           0.96       423\n",
            "   macro avg       0.95      0.95      0.95       423\n",
            "weighted avg       0.96      0.96      0.96       423\n",
            "\n"
          ]
        }
      ]
    }
  ]
}